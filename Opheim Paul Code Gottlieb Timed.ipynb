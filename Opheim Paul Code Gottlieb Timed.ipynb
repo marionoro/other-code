{
 "cells": [
  {
   "cell_type": "code",
   "execution_count": 1,
   "metadata": {},
   "outputs": [],
   "source": [
    "import pandas as pd"
   ]
  },
  {
   "cell_type": "code",
   "execution_count": 8,
   "metadata": {},
   "outputs": [],
   "source": [
    "only = pd.read_csv(\"C:\\\\Users\\\\paulo\\\\Documents\\\\Job Applications\\\\Data_Tests\\\\BFI - UChicago Gottlieb\\\\Timed_task\\\\2018_only.csv\")"
   ]
  },
  {
   "cell_type": "code",
   "execution_count": 9,
   "metadata": {},
   "outputs": [],
   "source": [
    "# Create person-weighted counts for each category\n",
    "only['coverage'] = only['perwt'] * (only['hcovany']-1)\n",
    "only['medicare'] = only['perwt'] * (only['hinscare']-1)\n",
    "only['medicaid'] = only['perwt'] * (only['hinscaid']-1)"
   ]
  },
  {
   "cell_type": "code",
   "execution_count": 10,
   "metadata": {},
   "outputs": [],
   "source": [
    "# Sum number of individuals on each health plan by state.\n",
    "processed = only.groupby('statefip').sum()[['perwt','coverage','medicare','medicaid']]"
   ]
  },
  {
   "cell_type": "code",
   "execution_count": 11,
   "metadata": {},
   "outputs": [],
   "source": [
    "# Calculate share of people with each health plan. Drop columns with raw totals\n",
    "processed['hi_any_share'] = processed['coverage'] / processed['perwt']\n",
    "processed['hi_medicare_share'] = processed['medicare'] / processed['perwt']\n",
    "processed['hi_medicaid_share'] = processed['medicaid'] / processed['perwt']\n",
    "del processed['coverage']\n",
    "del processed['medicare']\n",
    "del processed['medicaid']\n",
    "del processed['perwt']"
   ]
  },
  {
   "cell_type": "code",
   "execution_count": 12,
   "metadata": {},
   "outputs": [],
   "source": [
    "processed.to_csv(\"C:\\\\Users\\\\paulo\\\\Documents\\\\Job Applications\\\\Data_Tests\\\\BFI - UChicago Gottlieb\\\\Timed_task\\\\processed.csv\")"
   ]
  }
 ],
 "metadata": {
  "kernelspec": {
   "display_name": "Python 3",
   "language": "python",
   "name": "python3"
  },
  "language_info": {
   "codemirror_mode": {
    "name": "ipython",
    "version": 3
   },
   "file_extension": ".py",
   "mimetype": "text/x-python",
   "name": "python",
   "nbconvert_exporter": "python",
   "pygments_lexer": "ipython3",
   "version": "3.8.3"
  }
 },
 "nbformat": 4,
 "nbformat_minor": 4
}
