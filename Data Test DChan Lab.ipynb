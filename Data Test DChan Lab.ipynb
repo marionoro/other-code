{
 "cells": [
  {
   "cell_type": "code",
   "execution_count": 134,
   "metadata": {},
   "outputs": [],
   "source": [
    "import os\n",
    "import pandas as pd\n",
    "import datetime\n",
    "import math\n",
    "import numpy as np\n",
    "import seaborn as sns\n",
    "import matplotlib as plt\n",
    "import statsmodels.api as sm\n",
    "import statsmodels.formula.api as smf"
   ]
  },
  {
   "cell_type": "code",
   "execution_count": 135,
   "metadata": {},
   "outputs": [],
   "source": [
    "os.chdir(\"C:\\\\Users\\\\paulo\\\\Documents\\\\RA and Fellowship Applications\\\\Data_Tests\\\\DChan Lab Hiring Data Test\\\\Task package\")\n",
    "mydata = pd.read_csv(\"test_data.txt\")"
   ]
  },
  {
   "cell_type": "code",
   "execution_count": 136,
   "metadata": {},
   "outputs": [
    {
     "data": {
      "text/plain": [
       "ed_tc        0\n",
       "dcord_tc     0\n",
       "xb_lntdc     0\n",
       "shiftid      0\n",
       "phys_name    0\n",
       "visit_num    0\n",
       "dtype: int64"
      ]
     },
     "execution_count": 136,
     "metadata": {},
     "output_type": "execute_result"
    }
   ],
   "source": [
    "# No missing Values\n",
    "mydata.isna().sum()"
   ]
  },
  {
   "cell_type": "code",
   "execution_count": 137,
   "metadata": {},
   "outputs": [
    {
     "data": {
      "text/plain": [
       "14    328\n",
       "18    318\n",
       "24    317\n",
       "25    314\n",
       "17    312\n",
       "06    311\n",
       "27    310\n",
       "30    310\n",
       "02    302\n",
       "20    299\n",
       "12    298\n",
       "11    297\n",
       "16    297\n",
       "23    296\n",
       "21    295\n",
       "15    293\n",
       "09    291\n",
       "19    287\n",
       "03    287\n",
       "29    286\n",
       "10    286\n",
       "08    284\n",
       "04    284\n",
       "05    278\n",
       "22    269\n",
       "01    266\n",
       "07    259\n",
       "26    259\n",
       "13    230\n",
       "28    217\n",
       "31    151\n",
       "Name: shiftid, dtype: int64"
      ]
     },
     "execution_count": 137,
     "metadata": {},
     "output_type": "execute_result"
    }
   ],
   "source": [
    "# It always marks the date with two symbols even if it is 1-9:\n",
    "mydata.ed_tc.str.slice(start=0,stop=2).value_counts()"
   ]
  },
  {
   "cell_type": "code",
   "execution_count": 138,
   "metadata": {
    "scrolled": true
   },
   "outputs": [
    {
     "data": {
      "text/plain": [
       "30    324\n",
       "06    317\n",
       "17    316\n",
       "14    315\n",
       "18    315\n",
       "25    314\n",
       "27    310\n",
       "12    306\n",
       "23    300\n",
       "24    298\n",
       "21    298\n",
       "20    297\n",
       "02    296\n",
       "10    296\n",
       "16    294\n",
       "15    293\n",
       "11    292\n",
       "19    292\n",
       "03    292\n",
       "09    290\n",
       "04    281\n",
       "08    274\n",
       "05    273\n",
       "22    272\n",
       "26    267\n",
       "07    265\n",
       "01    261\n",
       "29    260\n",
       "28    245\n",
       "13    234\n",
       "31    144\n",
       "Name: dcord_tc, dtype: int64"
      ]
     },
     "execution_count": 138,
     "metadata": {},
     "output_type": "execute_result"
    }
   ],
   "source": [
    "mydata.dcord_tc.str.slice(start=0,stop=2).value_counts()"
   ]
  },
  {
   "cell_type": "code",
   "execution_count": 139,
   "metadata": {},
   "outputs": [
    {
     "data": {
      "text/plain": [
       "14    328\n",
       "18    318\n",
       "24    317\n",
       "25    314\n",
       "17    312\n",
       "06    311\n",
       "27    310\n",
       "30    310\n",
       "02    302\n",
       "20    299\n",
       "12    298\n",
       "11    297\n",
       "16    297\n",
       "23    296\n",
       "21    295\n",
       "15    293\n",
       "09    291\n",
       "19    287\n",
       "03    287\n",
       "29    286\n",
       "10    286\n",
       "08    284\n",
       "04    284\n",
       "05    278\n",
       "22    269\n",
       "01    266\n",
       "07    259\n",
       "26    259\n",
       "13    230\n",
       "28    217\n",
       "31    151\n",
       "Name: shiftid, dtype: int64"
      ]
     },
     "execution_count": 139,
     "metadata": {},
     "output_type": "execute_result"
    }
   ],
   "source": [
    "mydata.shiftid.str.slice(start=0,stop=2).value_counts()"
   ]
  },
  {
   "cell_type": "code",
   "execution_count": 140,
   "metadata": {},
   "outputs": [],
   "source": [
    "# Code Date-Time Variables As Such\n",
    "mydata.columns\n",
    "mydata.ed_tc = mydata.ed_tc.str.title()\n",
    "mydata.ed_tc = pd.to_datetime(mydata.ed_tc, format='%d%b%Y %H:%M:%S')\n",
    "mydata.dcord_tc = mydata.dcord_tc.str.title()\n",
    "mydata.dcord_tc = pd.to_datetime(mydata.dcord_tc, format='%d%b%Y %H:%M:%S')\n",
    "\n",
    "mydata.shiftid = mydata.shiftid.str.replace('noon','12 p.m.')\n",
    "\n",
    "mydata.shift_start = ''\n",
    "mydata.shift_start = mydata.shiftid.str.slice(start=0,stop=10).str.title() + mydata.shiftid.str.slice(start=10,stop=17).str.upper()\n",
    "mydata.shift_start =mydata.shift_start.str.replace('.','')\n",
    "mydata.shift_start =mydata.shift_start.str.replace('  ',' ')\n",
    "mydata.shift_start = mydata.shift_start.str.strip()\n",
    "mydata.shift_start = pd.to_datetime(mydata.shift_start, format='%d%b%Y %I %p')\n",
    "\n",
    "mydata.shift_end = ''\n",
    "mydata.shift_end = mydata.shiftid.str.slice(start=0,stop=10).str.title()+ mydata.shiftid.str.slice(start=20,stop=27).str.upper()\n",
    "mydata.shift_end =mydata.shift_end.str.replace('.','')\n",
    "mydata.shift_end =mydata.shift_end.str.replace('  ',' ')\n",
    "mydata.shift_end = mydata.shift_end.str.strip()\n",
    "mydata.shift_end = pd.to_datetime(mydata.shift_end, format='%d%b%Y %I %p')\n",
    "\n",
    "mydata['shift_start'] = mydata.shift_start\n",
    "mydata['shift_end'] = mydata.shift_end\n",
    "\n",
    "# Correcting the fact that overnight shifts have the incorrect day associated with them\n",
    "mydata.loc[mydata['shift_end'] - mydata['shift_start'] < datetime.timedelta(minutes=0),['shift_end']] = mydata.loc[mydata['shift_end'] - mydata['shift_start'] < datetime.timedelta(minutes=0),['shift_end']] + datetime.timedelta(days=1)"
   ]
  },
  {
   "cell_type": "code",
   "execution_count": 141,
   "metadata": {},
   "outputs": [
    {
     "data": {
      "text/html": [
       "<div>\n",
       "<style scoped>\n",
       "    .dataframe tbody tr th:only-of-type {\n",
       "        vertical-align: middle;\n",
       "    }\n",
       "\n",
       "    .dataframe tbody tr th {\n",
       "        vertical-align: top;\n",
       "    }\n",
       "\n",
       "    .dataframe thead th {\n",
       "        text-align: right;\n",
       "    }\n",
       "</style>\n",
       "<table border=\"1\" class=\"dataframe\">\n",
       "  <thead>\n",
       "    <tr style=\"text-align: right;\">\n",
       "      <th></th>\n",
       "      <th>ed_tc</th>\n",
       "      <th>dcord_tc</th>\n",
       "      <th>xb_lntdc</th>\n",
       "      <th>shiftid</th>\n",
       "      <th>phys_name</th>\n",
       "      <th>visit_num</th>\n",
       "      <th>shift_start</th>\n",
       "      <th>shift_end</th>\n",
       "    </tr>\n",
       "  </thead>\n",
       "  <tbody>\n",
       "    <tr>\n",
       "      <th>count</th>\n",
       "      <td>8831</td>\n",
       "      <td>8831</td>\n",
       "      <td>8831.000000</td>\n",
       "      <td>8831</td>\n",
       "      <td>8831</td>\n",
       "      <td>8831.000000</td>\n",
       "      <td>8831</td>\n",
       "      <td>8831</td>\n",
       "    </tr>\n",
       "    <tr>\n",
       "      <th>unique</th>\n",
       "      <td>7912</td>\n",
       "      <td>8162</td>\n",
       "      <td>NaN</td>\n",
       "      <td>398</td>\n",
       "      <td>43</td>\n",
       "      <td>NaN</td>\n",
       "      <td>381</td>\n",
       "      <td>381</td>\n",
       "    </tr>\n",
       "    <tr>\n",
       "      <th>top</th>\n",
       "      <td>1982-05-30 12:14:00</td>\n",
       "      <td>1982-06-20 13:18:00</td>\n",
       "      <td>NaN</td>\n",
       "      <td>06jun1982 8 a.m. to 5 p.m.</td>\n",
       "      <td>Whoopi</td>\n",
       "      <td>NaN</td>\n",
       "      <td>1982-06-06 08:00:00</td>\n",
       "      <td>1982-06-06 17:00:00</td>\n",
       "    </tr>\n",
       "    <tr>\n",
       "      <th>freq</th>\n",
       "      <td>4</td>\n",
       "      <td>4</td>\n",
       "      <td>NaN</td>\n",
       "      <td>54</td>\n",
       "      <td>417</td>\n",
       "      <td>NaN</td>\n",
       "      <td>54</td>\n",
       "      <td>54</td>\n",
       "    </tr>\n",
       "    <tr>\n",
       "      <th>first</th>\n",
       "      <td>1982-05-15 20:07:00</td>\n",
       "      <td>1982-05-15 22:34:00</td>\n",
       "      <td>NaN</td>\n",
       "      <td>NaN</td>\n",
       "      <td>NaN</td>\n",
       "      <td>NaN</td>\n",
       "      <td>1982-05-15 13:00:00</td>\n",
       "      <td>1982-05-15 22:00:00</td>\n",
       "    </tr>\n",
       "    <tr>\n",
       "      <th>last</th>\n",
       "      <td>1982-07-15 19:28:00</td>\n",
       "      <td>1982-07-16 10:17:00</td>\n",
       "      <td>NaN</td>\n",
       "      <td>NaN</td>\n",
       "      <td>NaN</td>\n",
       "      <td>NaN</td>\n",
       "      <td>1982-07-15 19:00:00</td>\n",
       "      <td>1982-07-16 04:00:00</td>\n",
       "    </tr>\n",
       "    <tr>\n",
       "      <th>mean</th>\n",
       "      <td>NaN</td>\n",
       "      <td>NaN</td>\n",
       "      <td>1.121157</td>\n",
       "      <td>NaN</td>\n",
       "      <td>NaN</td>\n",
       "      <td>4416.000000</td>\n",
       "      <td>NaN</td>\n",
       "      <td>NaN</td>\n",
       "    </tr>\n",
       "    <tr>\n",
       "      <th>std</th>\n",
       "      <td>NaN</td>\n",
       "      <td>NaN</td>\n",
       "      <td>0.381810</td>\n",
       "      <td>NaN</td>\n",
       "      <td>NaN</td>\n",
       "      <td>2549.434447</td>\n",
       "      <td>NaN</td>\n",
       "      <td>NaN</td>\n",
       "    </tr>\n",
       "    <tr>\n",
       "      <th>min</th>\n",
       "      <td>NaN</td>\n",
       "      <td>NaN</td>\n",
       "      <td>-0.275887</td>\n",
       "      <td>NaN</td>\n",
       "      <td>NaN</td>\n",
       "      <td>1.000000</td>\n",
       "      <td>NaN</td>\n",
       "      <td>NaN</td>\n",
       "    </tr>\n",
       "    <tr>\n",
       "      <th>25%</th>\n",
       "      <td>NaN</td>\n",
       "      <td>NaN</td>\n",
       "      <td>1.006444</td>\n",
       "      <td>NaN</td>\n",
       "      <td>NaN</td>\n",
       "      <td>2208.500000</td>\n",
       "      <td>NaN</td>\n",
       "      <td>NaN</td>\n",
       "    </tr>\n",
       "    <tr>\n",
       "      <th>50%</th>\n",
       "      <td>NaN</td>\n",
       "      <td>NaN</td>\n",
       "      <td>1.202871</td>\n",
       "      <td>NaN</td>\n",
       "      <td>NaN</td>\n",
       "      <td>4416.000000</td>\n",
       "      <td>NaN</td>\n",
       "      <td>NaN</td>\n",
       "    </tr>\n",
       "    <tr>\n",
       "      <th>75%</th>\n",
       "      <td>NaN</td>\n",
       "      <td>NaN</td>\n",
       "      <td>1.382665</td>\n",
       "      <td>NaN</td>\n",
       "      <td>NaN</td>\n",
       "      <td>6623.500000</td>\n",
       "      <td>NaN</td>\n",
       "      <td>NaN</td>\n",
       "    </tr>\n",
       "    <tr>\n",
       "      <th>max</th>\n",
       "      <td>NaN</td>\n",
       "      <td>NaN</td>\n",
       "      <td>2.124072</td>\n",
       "      <td>NaN</td>\n",
       "      <td>NaN</td>\n",
       "      <td>8831.000000</td>\n",
       "      <td>NaN</td>\n",
       "      <td>NaN</td>\n",
       "    </tr>\n",
       "  </tbody>\n",
       "</table>\n",
       "</div>"
      ],
      "text/plain": [
       "                      ed_tc             dcord_tc     xb_lntdc  \\\n",
       "count                  8831                 8831  8831.000000   \n",
       "unique                 7912                 8162          NaN   \n",
       "top     1982-05-30 12:14:00  1982-06-20 13:18:00          NaN   \n",
       "freq                      4                    4          NaN   \n",
       "first   1982-05-15 20:07:00  1982-05-15 22:34:00          NaN   \n",
       "last    1982-07-15 19:28:00  1982-07-16 10:17:00          NaN   \n",
       "mean                    NaN                  NaN     1.121157   \n",
       "std                     NaN                  NaN     0.381810   \n",
       "min                     NaN                  NaN    -0.275887   \n",
       "25%                     NaN                  NaN     1.006444   \n",
       "50%                     NaN                  NaN     1.202871   \n",
       "75%                     NaN                  NaN     1.382665   \n",
       "max                     NaN                  NaN     2.124072   \n",
       "\n",
       "                           shiftid phys_name    visit_num  \\\n",
       "count                         8831      8831  8831.000000   \n",
       "unique                         398        43          NaN   \n",
       "top     06jun1982 8 a.m. to 5 p.m.    Whoopi          NaN   \n",
       "freq                            54       417          NaN   \n",
       "first                          NaN       NaN          NaN   \n",
       "last                           NaN       NaN          NaN   \n",
       "mean                           NaN       NaN  4416.000000   \n",
       "std                            NaN       NaN  2549.434447   \n",
       "min                            NaN       NaN     1.000000   \n",
       "25%                            NaN       NaN  2208.500000   \n",
       "50%                            NaN       NaN  4416.000000   \n",
       "75%                            NaN       NaN  6623.500000   \n",
       "max                            NaN       NaN  8831.000000   \n",
       "\n",
       "                shift_start            shift_end  \n",
       "count                  8831                 8831  \n",
       "unique                  381                  381  \n",
       "top     1982-06-06 08:00:00  1982-06-06 17:00:00  \n",
       "freq                     54                   54  \n",
       "first   1982-05-15 13:00:00  1982-05-15 22:00:00  \n",
       "last    1982-07-15 19:00:00  1982-07-16 04:00:00  \n",
       "mean                    NaN                  NaN  \n",
       "std                     NaN                  NaN  \n",
       "min                     NaN                  NaN  \n",
       "25%                     NaN                  NaN  \n",
       "50%                     NaN                  NaN  \n",
       "75%                     NaN                  NaN  \n",
       "max                     NaN                  NaN  "
      ]
     },
     "execution_count": 141,
     "metadata": {},
     "output_type": "execute_result"
    }
   ],
   "source": [
    "# Summarize the data\n",
    "mydata.describe(include='all')"
   ]
  },
  {
   "cell_type": "code",
   "execution_count": 142,
   "metadata": {},
   "outputs": [
    {
     "data": {
      "text/plain": [
       "43"
      ]
     },
     "execution_count": 142,
     "metadata": {},
     "output_type": "execute_result"
    }
   ],
   "source": [
    "# Number of unique doctors\n",
    "len(mydata.phys_name.value_counts())"
   ]
  },
  {
   "cell_type": "code",
   "execution_count": 150,
   "metadata": {},
   "outputs": [
    {
     "data": {
      "text/plain": [
       "09:00:00    7839\n",
       "10:00:00     971\n",
       "07:00:00      17\n",
       "02:00:00       4\n",
       "dtype: int64"
      ]
     },
     "execution_count": 150,
     "metadata": {},
     "output_type": "execute_result"
    }
   ],
   "source": [
    "pd.Series(mydata['shift_end'] - mydata['shift_start']).value_counts()"
   ]
  },
  {
   "cell_type": "code",
   "execution_count": 143,
   "metadata": {},
   "outputs": [
    {
     "data": {
      "text/plain": [
       "0      20:02:00\n",
       "1      01:02:00\n",
       "2      01:07:00\n",
       "3      23:20:00\n",
       "4      00:44:00\n",
       "         ...   \n",
       "8826   01:35:00\n",
       "8827   07:09:00\n",
       "8828   02:53:00\n",
       "8829   01:48:00\n",
       "8830   00:47:00\n",
       "Length: 8831, dtype: timedelta64[ns]"
      ]
     },
     "execution_count": 143,
     "metadata": {},
     "output_type": "execute_result"
    }
   ],
   "source": [
    "# Looking for data entry errors\n",
    "## All these values should be positive:\n",
    "mydata['dcord_tc'] - mydata['ed_tc']"
   ]
  },
  {
   "cell_type": "code",
   "execution_count": 144,
   "metadata": {},
   "outputs": [
    {
     "data": {
      "text/plain": [
       "Timedelta('-1 days +22:11:00')"
      ]
     },
     "execution_count": 144,
     "metadata": {},
     "output_type": "execute_result"
    }
   ],
   "source": [
    "min(mydata['dcord_tc'] - mydata['ed_tc'])"
   ]
  },
  {
   "cell_type": "code",
   "execution_count": 145,
   "metadata": {},
   "outputs": [
    {
     "data": {
      "text/plain": [
       "3"
      ]
     },
     "execution_count": 145,
     "metadata": {},
     "output_type": "execute_result"
    }
   ],
   "source": [
    "len(mydata[mydata['dcord_tc'] - mydata['ed_tc'] < datetime.timedelta(minutes=0)])"
   ]
  },
  {
   "cell_type": "code",
   "execution_count": 147,
   "metadata": {},
   "outputs": [
    {
     "data": {
      "text/plain": [
       "0      09:00:00\n",
       "1      09:00:00\n",
       "2      09:00:00\n",
       "3      10:00:00\n",
       "4      10:00:00\n",
       "         ...   \n",
       "8826   09:00:00\n",
       "8827   09:00:00\n",
       "8828   09:00:00\n",
       "8829   10:00:00\n",
       "8830   09:00:00\n",
       "Length: 8831, dtype: timedelta64[ns]"
      ]
     },
     "execution_count": 147,
     "metadata": {},
     "output_type": "execute_result"
    }
   ],
   "source": [
    "# Three people were discharged before they arrived!\n",
    "mydata['shift_end'] - mydata['shift_start']"
   ]
  },
  {
   "cell_type": "code",
   "execution_count": 148,
   "metadata": {},
   "outputs": [
    {
     "data": {
      "text/plain": [
       "Timedelta('0 days 02:00:00')"
      ]
     },
     "execution_count": 148,
     "metadata": {},
     "output_type": "execute_result"
    }
   ],
   "source": [
    "min(mydata['shift_end'] - mydata['shift_start'])"
   ]
  },
  {
   "cell_type": "code",
   "execution_count": 151,
   "metadata": {},
   "outputs": [
    {
     "data": {
      "text/plain": [
       "0.07360434831842373"
      ]
     },
     "execution_count": 151,
     "metadata": {},
     "output_type": "execute_result"
    }
   ],
   "source": [
    "# Problem 1\n",
    "len(mydata[mydata['ed_tc'] < mydata['shift_start']]) / len(mydata)"
   ]
  },
  {
   "cell_type": "code",
   "execution_count": 152,
   "metadata": {},
   "outputs": [
    {
     "data": {
      "text/plain": [
       "0.18967274374363038"
      ]
     },
     "execution_count": 152,
     "metadata": {},
     "output_type": "execute_result"
    }
   ],
   "source": [
    "len(mydata[mydata['dcord_tc'] > mydata['shift_end']]) / len(mydata)"
   ]
  },
  {
   "cell_type": "code",
   "execution_count": 153,
   "metadata": {},
   "outputs": [
    {
     "data": {
      "text/plain": [
       "ed_tc\n",
       "0     132\n",
       "1     114\n",
       "2     143\n",
       "3     156\n",
       "4     345\n",
       "5     409\n",
       "6     620\n",
       "7     617\n",
       "8     617\n",
       "9     504\n",
       "10    572\n",
       "11    520\n",
       "12    574\n",
       "13    568\n",
       "14    518\n",
       "15    442\n",
       "16    465\n",
       "17    377\n",
       "18    294\n",
       "19    230\n",
       "20    161\n",
       "21    161\n",
       "22    138\n",
       "23    154\n",
       "Name: ed_tc, dtype: int64"
      ]
     },
     "execution_count": 153,
     "metadata": {},
     "output_type": "execute_result"
    }
   ],
   "source": [
    "# Problem 2\n",
    "# Patterns of Patient Arrivals\n",
    "mydata['ed_tc'].groupby(mydata['ed_tc'].dt.hour).count()"
   ]
  },
  {
   "cell_type": "code",
   "execution_count": 154,
   "metadata": {
    "scrolled": true
   },
   "outputs": [
    {
     "data": {
      "text/plain": [
       "ed_tc\n",
       "0     1.136666\n",
       "1     1.144593\n",
       "2     1.104160\n",
       "3     1.120811\n",
       "4     1.082213\n",
       "5     1.091735\n",
       "6     1.106814\n",
       "7     1.145563\n",
       "8     1.131713\n",
       "9     1.139560\n",
       "10    1.145184\n",
       "11    1.109216\n",
       "12    1.126599\n",
       "13    1.115722\n",
       "14    1.117335\n",
       "15    1.098679\n",
       "16    1.117958\n",
       "17    1.125159\n",
       "18    1.155606\n",
       "19    1.114657\n",
       "20    1.098382\n",
       "21    1.130434\n",
       "22    1.103896\n",
       "23    1.131049\n",
       "Name: xb_lntdc, dtype: float64"
      ]
     },
     "execution_count": 154,
     "metadata": {},
     "output_type": "execute_result"
    }
   ],
   "source": [
    "# Patterns of Severity by Hour of Arrival\n",
    "mydata['xb_lntdc'].groupby(mydata['ed_tc'].dt.hour).mean()"
   ]
  },
  {
   "cell_type": "code",
   "execution_count": 156,
   "metadata": {},
   "outputs": [
    {
     "data": {
      "text/plain": [
       "1.1556056197278903"
      ]
     },
     "execution_count": 156,
     "metadata": {},
     "output_type": "execute_result"
    }
   ],
   "source": [
    "max(mydata['xb_lntdc'].groupby(mydata['ed_tc'].dt.hour).mean())"
   ]
  },
  {
   "cell_type": "code",
   "execution_count": 157,
   "metadata": {
    "scrolled": true
   },
   "outputs": [
    {
     "data": {
      "text/plain": [
       "1.0822129101449274"
      ]
     },
     "execution_count": 157,
     "metadata": {},
     "output_type": "execute_result"
    }
   ],
   "source": [
    "min(mydata['xb_lntdc'].groupby(mydata['ed_tc'].dt.hour).mean())"
   ]
  },
  {
   "cell_type": "code",
   "execution_count": 161,
   "metadata": {},
   "outputs": [
    {
     "data": {
      "image/png": "[encoded data removed]",
      "text/plain": [
       "<Figure size 432x288 with 1 Axes>"
      ]
     },
     "metadata": {
      "needs_background": "light"
     },
     "output_type": "display_data"
    }
   ],
   "source": [
    "# Chart of log length of stay across hour of hospital admittance\n",
    "sns.scatterplot(x=mydata['xb_lntdc'].groupby(mydata['ed_tc'].dt.hour).mean().index, y=mydata['xb_lntdc'].groupby(mydata['ed_tc'].dt.hour).mean().values);"
   ]
  },
  {
   "cell_type": "code",
   "execution_count": 162,
   "metadata": {},
   "outputs": [],
   "source": [
    "# Problem 3\n",
    "census = pd.DataFrame()\n",
    "hour = min(mydata['shift_start'])\n",
    "\n",
    "while hour <= max(mydata['shift_end']) + datetime.timedelta(hours = 4):\n",
    "    on_call = pd.DataFrame(mydata[(mydata['shift_start'] <= hour) & (mydata['shift_end'] + datetime.timedelta(hours=4)> hour)].groupby(['phys_name', 'shiftid','shift_end']).count()['ed_tc'])\n",
    "    patients = mydata[(mydata['ed_tc'] <= hour) & (mydata['dcord_tc']> hour)].groupby(['phys_name', 'shiftid','shift_end']).count()['ed_tc']\n",
    "    x = on_call.merge(patients,how='left',on=['phys_name','shiftid','shift_end'])['ed_tc_y'].fillna(0).reset_index()\n",
    "    x['index'] = (hour - x['shift_end']).astype('timedelta64[h]')\n",
    "    census = census.append(x, ignore_index=True)\n",
    "    hour = hour + datetime.timedelta(hours = 1)\n",
    "\n",
    "census['patient_count'] = census['ed_tc_y']\n",
    "\n",
    "del census['ed_tc_y']\n",
    "del census['shift_end']"
   ]
  },
  {
   "cell_type": "code",
   "execution_count": 163,
   "metadata": {},
   "outputs": [],
   "source": [
    "census.to_csv(\"census.csv\")"
   ]
  },
  {
   "cell_type": "code",
   "execution_count": 164,
   "metadata": {},
   "outputs": [
    {
     "data": {
      "text/plain": [
       "index\n",
       "-10.0     48\n",
       "-9.0     528\n",
       "-8.0     528\n",
       "-7.0     529\n",
       "-6.0     529\n",
       "-5.0     529\n",
       "-4.0     529\n",
       "-3.0     529\n",
       "-2.0     530\n",
       "-1.0     530\n",
       " 0.0     530\n",
       " 1.0     530\n",
       " 2.0     530\n",
       " 3.0     530\n",
       "Name: patient_count, dtype: int64"
      ]
     },
     "execution_count": 164,
     "metadata": {},
     "output_type": "execute_result"
    }
   ],
   "source": [
    "census.groupby('index').count()['patient_count']"
   ]
  },
  {
   "cell_type": "code",
   "execution_count": 165,
   "metadata": {},
   "outputs": [
    {
     "data": {
      "text/plain": [
       "index\n",
       "-10.0    0.958333\n",
       "-9.0     1.488636\n",
       "-8.0     3.465909\n",
       "-7.0     4.886578\n",
       "-6.0     6.189036\n",
       "-5.0     7.534972\n",
       "-4.0     7.922495\n",
       "-3.0     7.319471\n",
       "-2.0     6.350943\n",
       "-1.0     4.756604\n",
       " 0.0     3.160377\n",
       " 1.0     2.273585\n",
       " 2.0     1.718868\n",
       " 3.0     1.386792\n",
       "Name: patient_count, dtype: float64"
      ]
     },
     "execution_count": 165,
     "metadata": {},
     "output_type": "execute_result"
    }
   ],
   "source": [
    "census.groupby('index').mean()['patient_count']"
   ]
  },
  {
   "cell_type": "code",
   "execution_count": 92,
   "metadata": {
    "scrolled": true
   },
   "outputs": [
    {
     "data": {
      "text/plain": [
       "shift_start_hour\n",
       "3     1.107284\n",
       "4     1.120513\n",
       "6     1.025745\n",
       "8     1.148458\n",
       "10    1.009690\n",
       "11    1.075082\n",
       "12    1.103813\n",
       "13    1.137141\n",
       "19    1.159107\n",
       "Name: xb_lntdc, dtype: float64"
      ]
     },
     "execution_count": 92,
     "metadata": {},
     "output_type": "execute_result"
    }
   ],
   "source": [
    "# Problem 4\n",
    "mydata['shift_start_hour'] = mydata['shift_start'].dt.hour\n",
    "mydata.groupby('shift_start_hour').mean()['xb_lntdc']"
   ]
  },
  {
   "cell_type": "code",
   "execution_count": 171,
   "metadata": {
    "scrolled": true
   },
   "outputs": [
    {
     "data": {
      "text/plain": [
       "phys_name[T.Teresa]      -0.103518\n",
       "phys_name[T.Elizabeth]   -0.074584\n",
       "phys_name[T.Andrew]      -0.072734\n",
       "phys_name[T.Dwight]      -0.070887\n",
       "phys_name[T.Diana]       -0.062446\n",
       "phys_name[T.Barack]      -0.060750\n",
       "phys_name[T.Benazir]     -0.056431\n",
       "phys_name[T.Thomas]      -0.051839\n",
       "phys_name[T.Ronald]      -0.048312\n",
       "phys_name[T.Beatrix]     -0.046338\n",
       "dtype: float64"
      ]
     },
     "execution_count": 171,
     "metadata": {},
     "output_type": "execute_result"
    }
   ],
   "source": [
    "results1 = smf.ols('xb_lntdc ~ phys_name', data=mydata).fit()\n",
    "results1.params.sort_values()[0:10]"
   ]
  },
  {
   "cell_type": "code",
   "execution_count": 174,
   "metadata": {
    "scrolled": true
   },
   "outputs": [
    {
     "name": "stdout",
     "output_type": "stream",
     "text": [
      "                            OLS Regression Results                            \n",
      "==============================================================================\n",
      "Dep. Variable:               xb_lntdc   R-squared:                       0.007\n",
      "Model:                            OLS   Adj. R-squared:                  0.002\n",
      "Method:                 Least Squares   F-statistic:                     1.489\n",
      "Date:                Thu, 12 Nov 2020   Prob (F-statistic):             0.0219\n",
      "Time:                        15:15:51   Log-Likelihood:                -3996.1\n",
      "No. Observations:                8831   AIC:                             8078.\n",
      "Df Residuals:                    8788   BIC:                             8383.\n",
      "Df Model:                          42                                         \n",
      "Covariance Type:            nonrobust                                         \n",
      "===========================================================================================\n",
      "                              coef    std err          t      P>|t|      [0.025      0.975]\n",
      "-------------------------------------------------------------------------------------------\n",
      "Intercept                   1.1444      0.027     42.542      0.000       1.092       1.197\n",
      "phys_name[T.Andrew]        -0.0727      0.037     -1.961      0.050      -0.145   -2.61e-05\n",
      "phys_name[T.Anne]          -0.0447      0.039     -1.145      0.252      -0.121       0.032\n",
      "phys_name[T.Audrey]        -0.0137      0.036     -0.383      0.701      -0.084       0.057\n",
      "phys_name[T.Barack]        -0.0607      0.036     -1.672      0.094      -0.132       0.010\n",
      "phys_name[T.Beatrix]       -0.0463      0.033     -1.412      0.158      -0.111       0.018\n",
      "phys_name[T.Benazir]       -0.0564      0.039     -1.462      0.144      -0.132       0.019\n",
      "phys_name[T.Benjamin]      -0.0149      0.035     -0.423      0.672      -0.084       0.054\n",
      "phys_name[T.Bill]          -0.0191      0.037     -0.521      0.602      -0.091       0.053\n",
      "phys_name[T.Calvin]        -0.0089      0.035     -0.257      0.797      -0.077       0.059\n",
      "phys_name[T.Chester]       -0.0084      0.045     -0.185      0.853      -0.097       0.080\n",
      "phys_name[T.Diana]         -0.0624      0.035     -1.795      0.073      -0.131       0.006\n",
      "phys_name[T.Dwight]        -0.0709      0.034     -2.073      0.038      -0.138      -0.004\n",
      "phys_name[T.Eleanor]        0.0662      0.044      1.488      0.137      -0.021       0.153\n",
      "phys_name[T.Elizabeth]     -0.0746      0.048     -1.542      0.123      -0.169       0.020\n",
      "phys_name[T.Franklin]      -0.0210      0.039     -0.543      0.587      -0.097       0.055\n",
      "phys_name[T.George]         0.0400      0.039      1.026      0.305      -0.036       0.116\n",
      "phys_name[T.Gerald]        -0.0354      0.033     -1.060      0.289      -0.101       0.030\n",
      "phys_name[T.Grover]        -0.0237      0.039     -0.606      0.545      -0.101       0.053\n",
      "phys_name[T.Harry]         -0.0075      0.034     -0.218      0.828      -0.075       0.060\n",
      "phys_name[T.Herbert]       -0.0304      0.041     -0.740      0.459      -0.111       0.050\n",
      "phys_name[T.Hillary]        0.0356      0.039      0.912      0.362      -0.041       0.112\n",
      "phys_name[T.Ingrid]        -0.0375      0.034     -1.088      0.277      -0.105       0.030\n",
      "phys_name[T.Jacqueline]     0.0473      0.043      1.096      0.273      -0.037       0.132\n",
      "phys_name[T.James]         -0.0391      0.041     -0.947      0.344      -0.120       0.042\n",
      "phys_name[T.Jimmy]          0.0286      0.039      0.739      0.460      -0.047       0.104\n",
      "phys_name[T.John]          -0.0178      0.038     -0.468      0.640      -0.092       0.057\n",
      "phys_name[T.Kate]          -0.0073      0.040     -0.184      0.854      -0.085       0.070\n",
      "phys_name[T.Katharine]      0.0255      0.054      0.469      0.639      -0.081       0.132\n",
      "phys_name[T.Lyndon]        -0.0331      0.038     -0.863      0.388      -0.108       0.042\n",
      "phys_name[T.Martin]        -0.0180      0.035     -0.515      0.606      -0.086       0.050\n",
      "phys_name[T.Oprah]          0.0006      0.038      0.016      0.987      -0.074       0.075\n",
      "phys_name[T.Richard]        0.0163      0.043      0.378      0.706      -0.068       0.101\n",
      "phys_name[T.Ronald]        -0.0483      0.040     -1.194      0.233      -0.128       0.031\n",
      "phys_name[T.Teresa]        -0.1035      0.043     -2.406      0.016      -0.188      -0.019\n",
      "phys_name[T.Thomas]        -0.0518      0.082     -0.629      0.529      -0.213       0.110\n",
      "phys_name[T.Ulysses]        0.0405      0.041      0.981      0.326      -0.040       0.121\n",
      "phys_name[T.Victoria]       0.1596      0.271      0.589      0.556      -0.372       0.691\n",
      "phys_name[T.Virginia]      -0.0290      0.036     -0.816      0.415      -0.099       0.041\n",
      "phys_name[T.Warren]        -0.0220      0.035     -0.625      0.532      -0.091       0.047\n",
      "phys_name[T.Whoopi]        -0.0287      0.033     -0.875      0.381      -0.093       0.036\n",
      "phys_name[T.William]       -0.0324      0.041     -0.797      0.426      -0.112       0.047\n",
      "phys_name[T.Woodrow]        0.0047      0.040      0.120      0.905      -0.073       0.082\n",
      "==============================================================================\n",
      "Omnibus:                     1297.141   Durbin-Watson:                   2.031\n",
      "Prob(Omnibus):                  0.000   Jarque-Bera (JB):             1939.172\n",
      "Skew:                          -1.095   Prob(JB):                         0.00\n",
      "Kurtosis:                       3.690   Cond. No.                         67.9\n",
      "==============================================================================\n",
      "\n",
      "Warnings:\n",
      "[1] Standard Errors assume that the covariance matrix of the errors is correctly specified.\n"
     ]
    }
   ],
   "source": [
    "print(results1.summary())"
   ]
  },
  {
   "cell_type": "code",
   "execution_count": 172,
   "metadata": {},
   "outputs": [
    {
     "data": {
      "text/plain": [
       "C(shift_start.dt.hour)[T.10]   -0.095110\n",
       "phys_name[T.Teresa]            -0.094587\n",
       "C(shift_start.dt.hour)[T.6]    -0.072503\n",
       "phys_name[T.Dwight]            -0.062760\n",
       "phys_name[T.Elizabeth]         -0.059436\n",
       "phys_name[T.Diana]             -0.058706\n",
       "phys_name[T.Andrew]            -0.053672\n",
       "phys_name[T.Beatrix]           -0.045309\n",
       "phys_name[T.Ronald]            -0.039388\n",
       "phys_name[T.Benazir]           -0.036527\n",
       "dtype: float64"
      ]
     },
     "execution_count": 172,
     "metadata": {},
     "output_type": "execute_result"
    }
   ],
   "source": [
    "results2 = smf.ols('xb_lntdc ~ phys_name + C(shift_start.dt.hour)', data=mydata).fit()\n",
    "results2.params.sort_values()[0:10]"
   ]
  },
  {
   "cell_type": "code",
   "execution_count": 168,
   "metadata": {},
   "outputs": [
    {
     "data": {
      "text/plain": [
       "C(shift_end.dt.hour)[T.16]   -0.129331\n",
       "C(shift_end.dt.hour)[T.10]   -0.110824\n",
       "phys_name[T.Teresa]          -0.095376\n",
       "C(shift_end.dt.hour)[T.20]   -0.080091\n",
       "phys_name[T.Dwight]          -0.064215\n",
       "phys_name[T.Diana]           -0.058523\n",
       "phys_name[T.Elizabeth]       -0.057586\n",
       "C(shift_end.dt.hour)[T.13]   -0.054193\n",
       "phys_name[T.Andrew]          -0.053164\n",
       "C(shift_end.dt.hour)[T.12]   -0.052486\n",
       "dtype: float64"
      ]
     },
     "execution_count": 168,
     "metadata": {},
     "output_type": "execute_result"
    }
   ],
   "source": [
    "results3 = smf.ols('xb_lntdc ~ phys_name + C(shift_end.dt.hour)', data=mydata).fit()\n",
    "results3.params.sort_values()[0:10]"
   ]
  },
  {
   "cell_type": "code",
   "execution_count": 169,
   "metadata": {},
   "outputs": [
    {
     "data": {
      "text/plain": [
       "phys_name[T.Teresa]      -0.105185\n",
       "phys_name[T.Elizabeth]   -0.073743\n",
       "phys_name[T.Andrew]      -0.070945\n",
       "phys_name[T.Dwight]      -0.070408\n",
       "phys_name[T.Diana]       -0.061980\n",
       "phys_name[T.Barack]      -0.056825\n",
       "phys_name[T.Benazir]     -0.051202\n",
       "C(ed_tc.dt.hour)[T.4]    -0.049698\n",
       "phys_name[T.Ronald]      -0.046639\n",
       "phys_name[T.Beatrix]     -0.045595\n",
       "dtype: float64"
      ]
     },
     "execution_count": 169,
     "metadata": {},
     "output_type": "execute_result"
    }
   ],
   "source": [
    "results4 = smf.ols('xb_lntdc ~ phys_name + C(ed_tc.dt.hour)', data=mydata).fit()\n",
    "results4.params.sort_values()[0:10]"
   ]
  },
  {
   "cell_type": "code",
   "execution_count": 170,
   "metadata": {},
   "outputs": [
    {
     "data": {
      "text/plain": [
       "C(dcord_tc.dt.hour)[T.7]   -0.106546\n",
       "phys_name[T.Teresa]        -0.106073\n",
       "C(dcord_tc.dt.hour)[T.5]   -0.101132\n",
       "C(dcord_tc.dt.hour)[T.6]   -0.090361\n",
       "phys_name[T.Andrew]        -0.080082\n",
       "phys_name[T.Elizabeth]     -0.080020\n",
       "phys_name[T.Dwight]        -0.078810\n",
       "C(dcord_tc.dt.hour)[T.8]   -0.075015\n",
       "phys_name[T.Diana]         -0.072009\n",
       "C(dcord_tc.dt.hour)[T.9]   -0.067175\n",
       "dtype: float64"
      ]
     },
     "execution_count": 170,
     "metadata": {},
     "output_type": "execute_result"
    }
   ],
   "source": [
    "results5 = smf.ols('xb_lntdc ~ phys_name + C(dcord_tc.dt.hour)', data=mydata).fit()\n",
    "results5.params.sort_values()[0:10]"
   ]
  },
  {
   "cell_type": "code",
   "execution_count": 97,
   "metadata": {
    "scrolled": true
   },
   "outputs": [
    {
     "data": {
      "text/plain": [
       "phys_name\n",
       "Teresa        1.040844\n",
       "Elizabeth     1.069778\n",
       "Andrew        1.071628\n",
       "Dwight        1.073475\n",
       "Diana         1.081916\n",
       "Barack        1.083612\n",
       "Benazir       1.087931\n",
       "Thomas        1.092523\n",
       "Ronald        1.096050\n",
       "Beatrix       1.098024\n",
       "Anne          1.099694\n",
       "James         1.105260\n",
       "Ingrid        1.106833\n",
       "Gerald        1.108921\n",
       "Lyndon        1.111256\n",
       "William       1.111939\n",
       "Herbert       1.113923\n",
       "Virginia      1.115351\n",
       "Whoopi        1.115696\n",
       "Grover        1.120614\n",
       "Warren        1.122390\n",
       "Franklin      1.123333\n",
       "Bill          1.125254\n",
       "Martin        1.126367\n",
       "John          1.126604\n",
       "Benjamin      1.129426\n",
       "Audrey        1.130615\n",
       "Calvin        1.135424\n",
       "Chester       1.136003\n",
       "Harry         1.136911\n",
       "Kate          1.137052\n",
       "Abraham       1.144362\n",
       "Oprah         1.144983\n",
       "Woodrow       1.149092\n",
       "Richard       1.160650\n",
       "Katharine     1.169889\n",
       "Jimmy         1.172943\n",
       "Hillary       1.179951\n",
       "George        1.184337\n",
       "Ulysses       1.184818\n",
       "Jacqueline    1.191636\n",
       "Eleanor       1.210528\n",
       "Victoria      1.303968\n",
       "Name: xb_lntdc, dtype: float64"
      ]
     },
     "execution_count": 97,
     "metadata": {},
     "output_type": "execute_result"
    }
   ],
   "source": [
    "# Lower numbers are quicker.\n",
    "mydata.groupby('phys_name').mean()['xb_lntdc'].sort_values()"
   ]
  },
  {
   "cell_type": "code",
   "execution_count": 101,
   "metadata": {},
   "outputs": [
    {
     "data": {
      "text/plain": [
       "phys_name\n",
       "Victoria        2\n",
       "Thomas         24\n",
       "Katharine      65\n",
       "Elizabeth      90\n",
       "Chester       110\n",
       "Eleanor       116\n",
       "Richard       128\n",
       "Jacqueline    128\n",
       "Teresa        129\n",
       "James         148\n",
       "Ulysses       149\n",
       "Herbert       150\n",
       "William       156\n",
       "Ronald        159\n",
       "Kate          171\n",
       "Woodrow       173\n",
       "Grover        179\n",
       "Hillary       182\n",
       "Anne          182\n",
       "George        183\n",
       "Franklin      187\n",
       "Jimmy         188\n",
       "Benazir       190\n",
       "Lyndon        194\n",
       "Abraham       201\n",
       "John          203\n",
       "Oprah         203\n",
       "Andrew        223\n",
       "Bill          234\n",
       "Barack        244\n",
       "Audrey        259\n",
       "Virginia      269\n",
       "Benjamin      278\n",
       "Warren        283\n",
       "Martin        293\n",
       "Diana         299\n",
       "Calvin        299\n",
       "Ingrid        312\n",
       "Harry         324\n",
       "Dwight        326\n",
       "Gerald        369\n",
       "Beatrix       412\n",
       "Whoopi        417\n",
       "Name: xb_lntdc, dtype: int64"
      ]
     },
     "execution_count": 101,
     "metadata": {},
     "output_type": "execute_result"
    }
   ],
   "source": [
    "mydata.groupby('phys_name').count()['xb_lntdc'].sort_values()"
   ]
  },
  {
   "cell_type": "code",
   "execution_count": 103,
   "metadata": {},
   "outputs": [
    {
     "data": {
      "text/plain": [
       "205.37209302325581"
      ]
     },
     "execution_count": 103,
     "metadata": {},
     "output_type": "execute_result"
    }
   ],
   "source": [
    "mydata.groupby('phys_name').count()['xb_lntdc'].mean()"
   ]
  }
 ],
 "metadata": {
  "kernelspec": {
   "display_name": "Python 3",
   "language": "python",
   "name": "python3"
  },
  "language_info": {
   "codemirror_mode": {
    "name": "ipython",
    "version": 3
   },
   "file_extension": ".py",
   "mimetype": "text/x-python",
   "name": "python",
   "nbconvert_exporter": "python",
   "pygments_lexer": "ipython3",
   "version": "3.8.3"
  }
 },
 "nbformat": 4,
 "nbformat_minor": 4
}
