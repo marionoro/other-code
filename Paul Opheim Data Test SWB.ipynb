{
 "cells": [
  {
   "cell_type": "code",
   "execution_count": 1,
   "metadata": {},
   "outputs": [],
   "source": [
    "import os\n",
    "import pandas as pd\n",
    "import statsmodels.api as sm\n",
    "import statsmodels.formula.api as smf\n",
    "import seaborn as sns\n",
    "import matplotlib.pyplot as plt"
   ]
  },
  {
   "cell_type": "code",
   "execution_count": 2,
   "metadata": {},
   "outputs": [],
   "source": [
    "os.chdir(\"C:\\\\Users\\\\paulo\\\\Documents\\\\RA and Fellowship Applications\\\\Data_Tests\\\\SWB_Data_task\")"
   ]
  },
  {
   "cell_type": "markdown",
   "metadata": {},
   "source": [
    "# Problem 1"
   ]
  },
  {
   "cell_type": "code",
   "execution_count": 23,
   "metadata": {},
   "outputs": [
    {
     "data": {
      "text/html": [
       "<div>\n",
       "<style scoped>\n",
       "    .dataframe tbody tr th:only-of-type {\n",
       "        vertical-align: middle;\n",
       "    }\n",
       "\n",
       "    .dataframe tbody tr th {\n",
       "        vertical-align: top;\n",
       "    }\n",
       "\n",
       "    .dataframe thead th {\n",
       "        text-align: right;\n",
       "    }\n",
       "</style>\n",
       "<table border=\"1\" class=\"dataframe\">\n",
       "  <thead>\n",
       "    <tr style=\"text-align: right;\">\n",
       "      <th></th>\n",
       "      <th>aspect</th>\n",
       "      <th>worker</th>\n",
       "      <th>time</th>\n",
       "      <th>rating</th>\n",
       "    </tr>\n",
       "  </thead>\n",
       "  <tbody>\n",
       "    <tr>\n",
       "      <th>0</th>\n",
       "      <td>how happy you feel</td>\n",
       "      <td>AW31492615119</td>\n",
       "      <td>1502372036608</td>\n",
       "      <td>69</td>\n",
       "    </tr>\n",
       "    <tr>\n",
       "      <th>1</th>\n",
       "      <td>how much you like your home house or apartment</td>\n",
       "      <td>AW31492615119</td>\n",
       "      <td>1502372036695</td>\n",
       "      <td>67</td>\n",
       "    </tr>\n",
       "    <tr>\n",
       "      <th>2</th>\n",
       "      <td>how satisfied you are with your life</td>\n",
       "      <td>AW31492615119</td>\n",
       "      <td>1502372036780</td>\n",
       "      <td>67</td>\n",
       "    </tr>\n",
       "    <tr>\n",
       "      <th>3</th>\n",
       "      <td>the extent to which you feel the things you do...</td>\n",
       "      <td>AW31492615119</td>\n",
       "      <td>1502372036849</td>\n",
       "      <td>63</td>\n",
       "    </tr>\n",
       "    <tr>\n",
       "      <th>4</th>\n",
       "      <td>the quality of your sleep</td>\n",
       "      <td>AW31492615119</td>\n",
       "      <td>1502372036929</td>\n",
       "      <td>59</td>\n",
       "    </tr>\n",
       "  </tbody>\n",
       "</table>\n",
       "</div>"
      ],
      "text/plain": [
       "                                              aspect         worker  \\\n",
       "0                                 how happy you feel  AW31492615119   \n",
       "1     how much you like your home house or apartment  AW31492615119   \n",
       "2               how satisfied you are with your life  AW31492615119   \n",
       "3  the extent to which you feel the things you do...  AW31492615119   \n",
       "4                          the quality of your sleep  AW31492615119   \n",
       "\n",
       "            time  rating  \n",
       "0  1502372036608      69  \n",
       "1  1502372036695      67  \n",
       "2  1502372036780      67  \n",
       "3  1502372036849      63  \n",
       "4  1502372036929      59  "
      ]
     },
     "execution_count": 23,
     "metadata": {},
     "output_type": "execute_result"
    }
   ],
   "source": [
    "# a\n",
    "rate = pd.read_csv(\"ratings.csv\")\n",
    "rate.head()"
   ]
  },
  {
   "cell_type": "code",
   "execution_count": 24,
   "metadata": {},
   "outputs": [
    {
     "data": {
      "text/plain": [
       "aspect    0\n",
       "worker    0\n",
       "time      0\n",
       "rating    0\n",
       "dtype: int64"
      ]
     },
     "execution_count": 24,
     "metadata": {},
     "output_type": "execute_result"
    }
   ],
   "source": [
    "# There are no missing values in this dataset.\n",
    "rate.isnull().sum()"
   ]
  },
  {
   "cell_type": "code",
   "execution_count": 25,
   "metadata": {},
   "outputs": [
    {
     "data": {
      "text/plain": [
       "1056"
      ]
     },
     "execution_count": 25,
     "metadata": {},
     "output_type": "execute_result"
    }
   ],
   "source": [
    "# b\n",
    "len(rate['worker'].unique())"
   ]
  },
  {
   "cell_type": "code",
   "execution_count": 26,
   "metadata": {},
   "outputs": [
    {
     "data": {
      "text/plain": [
       "17"
      ]
     },
     "execution_count": 26,
     "metadata": {},
     "output_type": "execute_result"
    }
   ],
   "source": [
    "len(rate['aspect'].unique())\n",
    "# end of b"
   ]
  },
  {
   "cell_type": "code",
   "execution_count": 27,
   "metadata": {},
   "outputs": [
    {
     "data": {
      "text/plain": [
       "True"
      ]
     },
     "execution_count": 27,
     "metadata": {},
     "output_type": "execute_result"
    }
   ],
   "source": [
    "# c\n",
    "(rate.groupby(['worker','aspect']).count() > 1).values.any()"
   ]
  },
  {
   "cell_type": "markdown",
   "metadata": {},
   "source": [
    "^ There are some cases of a respondent rating an aspect more than once."
   ]
  },
  {
   "cell_type": "code",
   "execution_count": 28,
   "metadata": {
    "scrolled": true
   },
   "outputs": [
    {
     "data": {
      "text/plain": [
       "237"
      ]
     },
     "execution_count": 28,
     "metadata": {},
     "output_type": "execute_result"
    }
   ],
   "source": [
    "rate_orig = rate.copy()\n",
    "rate = rate.sort_values(by=['worker','aspect', 'time'], ascending=False,ignore_index=True)\n",
    "rate = rate.drop_duplicates(subset=['worker','aspect'],keep='first',ignore_index=True)\n",
    "len(rate_orig) - len(rate)"
   ]
  },
  {
   "cell_type": "markdown",
   "metadata": {},
   "source": [
    "^ 237 observations were dropped from the dataset."
   ]
  },
  {
   "cell_type": "code",
   "execution_count": 20,
   "metadata": {},
   "outputs": [],
   "source": [
    "# End of c"
   ]
  },
  {
   "cell_type": "code",
   "execution_count": 29,
   "metadata": {},
   "outputs": [
    {
     "data": {
      "text/plain": [
       "17"
      ]
     },
     "execution_count": 29,
     "metadata": {},
     "output_type": "execute_result"
    }
   ],
   "source": [
    "# d\n",
    "max(rate.groupby('worker').count()['aspect'])"
   ]
  },
  {
   "cell_type": "code",
   "execution_count": 30,
   "metadata": {},
   "outputs": [
    {
     "data": {
      "text/plain": [
       "17"
      ]
     },
     "execution_count": 30,
     "metadata": {},
     "output_type": "execute_result"
    }
   ],
   "source": [
    "min(rate.groupby('worker').count()['aspect'])"
   ]
  },
  {
   "cell_type": "markdown",
   "metadata": {},
   "source": [
    "^ Each worker has ratings for all 17 different aspects of wellbeing."
   ]
  },
  {
   "cell_type": "code",
   "execution_count": 31,
   "metadata": {},
   "outputs": [],
   "source": [
    "subj_riches = (rate.groupby('worker').mean()['rating']).reset_index()\n",
    "subj_riches['subjective_riches'] = subj_riches['rating']\n",
    "del subj_riches['rating']"
   ]
  },
  {
   "cell_type": "code",
   "execution_count": 32,
   "metadata": {},
   "outputs": [
    {
     "data": {
      "text/html": [
       "<div>\n",
       "<style scoped>\n",
       "    .dataframe tbody tr th:only-of-type {\n",
       "        vertical-align: middle;\n",
       "    }\n",
       "\n",
       "    .dataframe tbody tr th {\n",
       "        vertical-align: top;\n",
       "    }\n",
       "\n",
       "    .dataframe thead th {\n",
       "        text-align: right;\n",
       "    }\n",
       "</style>\n",
       "<table border=\"1\" class=\"dataframe\">\n",
       "  <thead>\n",
       "    <tr style=\"text-align: right;\">\n",
       "      <th></th>\n",
       "      <th>subjective_riches</th>\n",
       "    </tr>\n",
       "  </thead>\n",
       "  <tbody>\n",
       "    <tr>\n",
       "      <th>count</th>\n",
       "      <td>1056.000000</td>\n",
       "    </tr>\n",
       "    <tr>\n",
       "      <th>mean</th>\n",
       "      <td>61.641154</td>\n",
       "    </tr>\n",
       "    <tr>\n",
       "      <th>std</th>\n",
       "      <td>19.012507</td>\n",
       "    </tr>\n",
       "    <tr>\n",
       "      <th>min</th>\n",
       "      <td>5.764706</td>\n",
       "    </tr>\n",
       "    <tr>\n",
       "      <th>25%</th>\n",
       "      <td>49.058824</td>\n",
       "    </tr>\n",
       "    <tr>\n",
       "      <th>50%</th>\n",
       "      <td>61.441176</td>\n",
       "    </tr>\n",
       "    <tr>\n",
       "      <th>75%</th>\n",
       "      <td>75.073529</td>\n",
       "    </tr>\n",
       "    <tr>\n",
       "      <th>max</th>\n",
       "      <td>100.000000</td>\n",
       "    </tr>\n",
       "  </tbody>\n",
       "</table>\n",
       "</div>"
      ],
      "text/plain": [
       "       subjective_riches\n",
       "count        1056.000000\n",
       "mean           61.641154\n",
       "std            19.012507\n",
       "min             5.764706\n",
       "25%            49.058824\n",
       "50%            61.441176\n",
       "75%            75.073529\n",
       "max           100.000000"
      ]
     },
     "execution_count": 32,
     "metadata": {},
     "output_type": "execute_result"
    }
   ],
   "source": [
    "subj_riches.describe()"
   ]
  },
  {
   "cell_type": "markdown",
   "metadata": {},
   "source": [
    "The subjective riches values are:<br/>\n",
    "Minimum: 5.8<br/>\n",
    "25th Percentile: 49.1<br/>\n",
    "50th Percentile: 61.4<br/>\n",
    "75th Percentile: 75.1<br/>\n",
    "100th Percentile: 100.0<br/>"
   ]
  },
  {
   "cell_type": "code",
   "execution_count": 82,
   "metadata": {},
   "outputs": [],
   "source": [
    "# End of d"
   ]
  },
  {
   "cell_type": "markdown",
   "metadata": {},
   "source": [
    "# Question 2"
   ]
  },
  {
   "cell_type": "code",
   "execution_count": 33,
   "metadata": {},
   "outputs": [
    {
     "data": {
      "text/html": [
       "<div>\n",
       "<style scoped>\n",
       "    .dataframe tbody tr th:only-of-type {\n",
       "        vertical-align: middle;\n",
       "    }\n",
       "\n",
       "    .dataframe tbody tr th {\n",
       "        vertical-align: top;\n",
       "    }\n",
       "\n",
       "    .dataframe thead th {\n",
       "        text-align: right;\n",
       "    }\n",
       "</style>\n",
       "<table border=\"1\" class=\"dataframe\">\n",
       "  <thead>\n",
       "    <tr style=\"text-align: right;\">\n",
       "      <th></th>\n",
       "      <th>worker</th>\n",
       "      <th>age</th>\n",
       "      <th>male</th>\n",
       "      <th>income</th>\n",
       "      <th>education</th>\n",
       "      <th>race</th>\n",
       "    </tr>\n",
       "  </thead>\n",
       "  <tbody>\n",
       "    <tr>\n",
       "      <th>0</th>\n",
       "      <td>AW31492615119</td>\n",
       "      <td>23</td>\n",
       "      <td>0</td>\n",
       "      <td>30000</td>\n",
       "      <td>Some college</td>\n",
       "      <td>Asian (non-Hispanic)</td>\n",
       "    </tr>\n",
       "    <tr>\n",
       "      <th>1</th>\n",
       "      <td>AW45861491036</td>\n",
       "      <td>35</td>\n",
       "      <td>0</td>\n",
       "      <td>50000</td>\n",
       "      <td>Some college</td>\n",
       "      <td>Black (non-Hispanic)</td>\n",
       "    </tr>\n",
       "    <tr>\n",
       "      <th>2</th>\n",
       "      <td>AW62562980372</td>\n",
       "      <td>28</td>\n",
       "      <td>0</td>\n",
       "      <td>30000</td>\n",
       "      <td>Some college</td>\n",
       "      <td>Hispanic (any race)</td>\n",
       "    </tr>\n",
       "    <tr>\n",
       "      <th>3</th>\n",
       "      <td>AW9806860651</td>\n",
       "      <td>55</td>\n",
       "      <td>1</td>\n",
       "      <td>70000</td>\n",
       "      <td>Bachelor's degree</td>\n",
       "      <td>White (non-Hispanic)</td>\n",
       "    </tr>\n",
       "    <tr>\n",
       "      <th>4</th>\n",
       "      <td>AW8132561106</td>\n",
       "      <td>38</td>\n",
       "      <td>0</td>\n",
       "      <td>50000</td>\n",
       "      <td>Master's degree</td>\n",
       "      <td>White (non-Hispanic)</td>\n",
       "    </tr>\n",
       "  </tbody>\n",
       "</table>\n",
       "</div>"
      ],
      "text/plain": [
       "          worker  age  male  income          education                  race\n",
       "0  AW31492615119   23     0   30000       Some college  Asian (non-Hispanic)\n",
       "1  AW45861491036   35     0   50000       Some college  Black (non-Hispanic)\n",
       "2  AW62562980372   28     0   30000       Some college   Hispanic (any race)\n",
       "3   AW9806860651   55     1   70000  Bachelor's degree  White (non-Hispanic)\n",
       "4   AW8132561106   38     0   50000    Master's degree  White (non-Hispanic)"
      ]
     },
     "execution_count": 33,
     "metadata": {},
     "output_type": "execute_result"
    }
   ],
   "source": [
    "# a\n",
    "demo = pd.read_csv(\"demographics.csv\")\n",
    "demo.head()\n",
    "# End of a"
   ]
  },
  {
   "cell_type": "code",
   "execution_count": 34,
   "metadata": {},
   "outputs": [
    {
     "data": {
      "text/plain": [
       "1056"
      ]
     },
     "execution_count": 34,
     "metadata": {},
     "output_type": "execute_result"
    }
   ],
   "source": [
    "# b\n",
    "len(demo)"
   ]
  },
  {
   "cell_type": "markdown",
   "metadata": {},
   "source": [
    "It is the same number of rows."
   ]
  },
  {
   "cell_type": "code",
   "execution_count": 86,
   "metadata": {},
   "outputs": [],
   "source": [
    "# End of b"
   ]
  },
  {
   "cell_type": "code",
   "execution_count": 35,
   "metadata": {
    "scrolled": true
   },
   "outputs": [
    {
     "data": {
      "text/html": [
       "<div>\n",
       "<style scoped>\n",
       "    .dataframe tbody tr th:only-of-type {\n",
       "        vertical-align: middle;\n",
       "    }\n",
       "\n",
       "    .dataframe tbody tr th {\n",
       "        vertical-align: top;\n",
       "    }\n",
       "\n",
       "    .dataframe thead th {\n",
       "        text-align: right;\n",
       "    }\n",
       "</style>\n",
       "<table border=\"1\" class=\"dataframe\">\n",
       "  <thead>\n",
       "    <tr style=\"text-align: right;\">\n",
       "      <th></th>\n",
       "      <th>worker</th>\n",
       "      <th>age</th>\n",
       "      <th>male</th>\n",
       "      <th>income</th>\n",
       "      <th>education</th>\n",
       "      <th>race</th>\n",
       "      <th>subjective_riches</th>\n",
       "    </tr>\n",
       "  </thead>\n",
       "  <tbody>\n",
       "    <tr>\n",
       "      <th>0</th>\n",
       "      <td>AW31492615119</td>\n",
       "      <td>23</td>\n",
       "      <td>0</td>\n",
       "      <td>30000</td>\n",
       "      <td>Some college</td>\n",
       "      <td>Asian (non-Hispanic)</td>\n",
       "      <td>63.647059</td>\n",
       "    </tr>\n",
       "    <tr>\n",
       "      <th>1</th>\n",
       "      <td>AW45861491036</td>\n",
       "      <td>35</td>\n",
       "      <td>0</td>\n",
       "      <td>50000</td>\n",
       "      <td>Some college</td>\n",
       "      <td>Black (non-Hispanic)</td>\n",
       "      <td>53.764706</td>\n",
       "    </tr>\n",
       "    <tr>\n",
       "      <th>2</th>\n",
       "      <td>AW62562980372</td>\n",
       "      <td>28</td>\n",
       "      <td>0</td>\n",
       "      <td>30000</td>\n",
       "      <td>Some college</td>\n",
       "      <td>Hispanic (any race)</td>\n",
       "      <td>58.294118</td>\n",
       "    </tr>\n",
       "    <tr>\n",
       "      <th>3</th>\n",
       "      <td>AW9806860651</td>\n",
       "      <td>55</td>\n",
       "      <td>1</td>\n",
       "      <td>70000</td>\n",
       "      <td>Bachelor's degree</td>\n",
       "      <td>White (non-Hispanic)</td>\n",
       "      <td>33.529412</td>\n",
       "    </tr>\n",
       "    <tr>\n",
       "      <th>4</th>\n",
       "      <td>AW8132561106</td>\n",
       "      <td>38</td>\n",
       "      <td>0</td>\n",
       "      <td>50000</td>\n",
       "      <td>Master's degree</td>\n",
       "      <td>White (non-Hispanic)</td>\n",
       "      <td>77.705882</td>\n",
       "    </tr>\n",
       "  </tbody>\n",
       "</table>\n",
       "</div>"
      ],
      "text/plain": [
       "          worker  age  male  income          education                  race  \\\n",
       "0  AW31492615119   23     0   30000       Some college  Asian (non-Hispanic)   \n",
       "1  AW45861491036   35     0   50000       Some college  Black (non-Hispanic)   \n",
       "2  AW62562980372   28     0   30000       Some college   Hispanic (any race)   \n",
       "3   AW9806860651   55     1   70000  Bachelor's degree  White (non-Hispanic)   \n",
       "4   AW8132561106   38     0   50000    Master's degree  White (non-Hispanic)   \n",
       "\n",
       "   subjective_riches  \n",
       "0          63.647059  \n",
       "1          53.764706  \n",
       "2          58.294118  \n",
       "3          33.529412  \n",
       "4          77.705882  "
      ]
     },
     "execution_count": 35,
     "metadata": {},
     "output_type": "execute_result"
    }
   ],
   "source": [
    "# c\n",
    "comb_data = demo.merge(subj_riches,how='inner',on = 'worker')\n",
    "comb_data.head()"
   ]
  },
  {
   "cell_type": "code",
   "execution_count": 37,
   "metadata": {},
   "outputs": [
    {
     "data": {
      "text/plain": [
       "(1056, 7)"
      ]
     },
     "execution_count": 37,
     "metadata": {},
     "output_type": "execute_result"
    }
   ],
   "source": [
    "comb_data.shape\n",
    "# ^ Correct number of rows\n",
    "# End of c"
   ]
  },
  {
   "cell_type": "code",
   "execution_count": 38,
   "metadata": {},
   "outputs": [
    {
     "name": "stdout",
     "output_type": "stream",
     "text": [
      "                            OLS Regression Results                            \n",
      "==============================================================================\n",
      "Dep. Variable:      subjective_riches   R-squared:                       0.038\n",
      "Model:                            OLS   Adj. R-squared:                  0.037\n",
      "Method:                 Least Squares   F-statistic:                     41.57\n",
      "Date:                Sat, 14 Nov 2020   Prob (F-statistic):           1.73e-10\n",
      "Time:                        13:23:12   Log-Likelihood:                -4587.5\n",
      "No. Observations:                1056   AIC:                             9179.\n",
      "Df Residuals:                    1054   BIC:                             9189.\n",
      "Df Model:                           1                                         \n",
      "Covariance Type:            nonrobust                                         \n",
      "==============================================================================\n",
      "                 coef    std err          t      P>|t|      [0.025      0.975]\n",
      "------------------------------------------------------------------------------\n",
      "Intercept     56.2790      1.011     55.691      0.000      54.296      58.262\n",
      "income      9.269e-05   1.44e-05      6.448      0.000    6.45e-05       0.000\n",
      "==============================================================================\n",
      "Omnibus:                        8.356   Durbin-Watson:                   2.019\n",
      "Prob(Omnibus):                  0.015   Jarque-Bera (JB):                6.856\n",
      "Skew:                          -0.115   Prob(JB):                       0.0324\n",
      "Kurtosis:                       2.679   Cond. No.                     1.24e+05\n",
      "==============================================================================\n",
      "\n",
      "Warnings:\n",
      "[1] Standard Errors assume that the covariance matrix of the errors is correctly specified.\n",
      "[2] The condition number is large, 1.24e+05. This might indicate that there are\n",
      "strong multicollinearity or other numerical problems.\n"
     ]
    }
   ],
   "source": [
    "# d\n",
    "results = smf.ols('subjective_riches ~ income', data=comb_data).fit()\n",
    "print(results.summary())"
   ]
  },
  {
   "cell_type": "markdown",
   "metadata": {},
   "source": [
    "The coefficient is 9.269e-05 and is strongly significant with a t-value of 6.45. This suggests that income and subjective riches are positively correlated. This regression suggests that a \\\\$1,000 increase in income would lead to a 0.09 increase in subjective riches (which is on a 0-100 scale). According to this model going from no income to \\\\$100,000/year would increase your subjective score by 9 points. That is noteworthy but does not suggest that income is a hugely impactful driver of subjective riches."
   ]
  },
  {
   "cell_type": "code",
   "execution_count": 117,
   "metadata": {},
   "outputs": [],
   "source": [
    "# end of d"
   ]
  },
  {
   "cell_type": "code",
   "execution_count": 39,
   "metadata": {
    "scrolled": true
   },
   "outputs": [
    {
     "name": "stdout",
     "output_type": "stream",
     "text": [
      "                            OLS Regression Results                            \n",
      "==============================================================================\n",
      "Dep. Variable:      subjective_riches   R-squared:                       0.055\n",
      "Model:                            OLS   Adj. R-squared:                  0.042\n",
      "Method:                 Least Squares   F-statistic:                     4.064\n",
      "Date:                Sat, 14 Nov 2020   Prob (F-statistic):           2.95e-07\n",
      "Time:                        13:24:54   Log-Likelihood:                -4573.5\n",
      "No. Observations:                1055   AIC:                             9179.\n",
      "Df Residuals:                    1039   BIC:                             9258.\n",
      "Df Model:                          15                                         \n",
      "Covariance Type:            nonrobust                                         \n",
      "=========================================================================================================\n",
      "                                            coef    std err          t      P>|t|      [0.025      0.975]\n",
      "---------------------------------------------------------------------------------------------------------\n",
      "Intercept                                56.8660      3.116     18.249      0.000      50.751      62.980\n",
      "C(male)[T.1]                              2.5374      1.183      2.145      0.032       0.216       4.859\n",
      "C(education)[T.Doctoral degree]           2.4341      4.657      0.523      0.601      -6.705      11.573\n",
      "C(education)[T.Graduate degree]          -1.1909      3.350     -0.356      0.722      -7.764       5.382\n",
      "C(education)[T.High school]              -2.0745      2.183     -0.950      0.342      -6.358       2.209\n",
      "C(education)[T.Less than high school]     4.2968      8.429      0.510      0.610     -12.243      20.837\n",
      "C(education)[T.Master's degree]          -2.9075      2.296     -1.266      0.206      -7.412       1.597\n",
      "C(education)[T.Some college]             -2.8650      1.324     -2.163      0.031      -5.464      -0.266\n",
      "C(race)[T.Black (non-Hispanic)]          -1.5190      3.073     -0.494      0.621      -7.550       4.512\n",
      "C(race)[T.Hispanic (any race)]           -1.6672      3.300     -0.505      0.614      -8.142       4.808\n",
      "C(race)[T.Multiracial]                    7.6788      4.415      1.739      0.082      -0.984      16.341\n",
      "C(race)[T.Other]                          9.4685      8.028      1.179      0.239      -6.285      25.222\n",
      "C(race)[T.White (non-Hispanic)]           0.6052      2.393      0.253      0.800      -4.091       5.301\n",
      "income                                 8.741e-05   1.53e-05      5.731      0.000    5.75e-05       0.000\n",
      "age                                      -0.2340      0.292     -0.801      0.423      -0.807       0.339\n",
      "age ^ 2                                   0.2251      0.290      0.777      0.437      -0.343       0.794\n",
      "==============================================================================\n",
      "Omnibus:                        5.125   Durbin-Watson:                   2.010\n",
      "Prob(Omnibus):                  0.077   Jarque-Bera (JB):                4.553\n",
      "Skew:                          -0.098   Prob(JB):                        0.103\n",
      "Kurtosis:                       2.744   Cond. No.                     1.04e+06\n",
      "==============================================================================\n",
      "\n",
      "Warnings:\n",
      "[1] Standard Errors assume that the covariance matrix of the errors is correctly specified.\n",
      "[2] The condition number is large, 1.04e+06. This might indicate that there are\n",
      "strong multicollinearity or other numerical problems.\n"
     ]
    }
   ],
   "source": [
    "# e\n",
    "results = smf.ols('subjective_riches ~ income + age + age^2 + C(male) + C(education) + C(race)', data=comb_data).fit()\n",
    "print(results.summary())"
   ]
  },
  {
   "cell_type": "code",
   "execution_count": 40,
   "metadata": {},
   "outputs": [
    {
     "data": {
      "text/plain": [
       "array(['Some college', \"Bachelor's degree\", \"Master's degree\",\n",
       "       'High school', 'Less than high school', 'Graduate degree',\n",
       "       'Doctoral degree', nan], dtype=object)"
      ]
     },
     "execution_count": 40,
     "metadata": {},
     "output_type": "execute_result"
    }
   ],
   "source": [
    "comb_data['education'].unique()"
   ]
  },
  {
   "cell_type": "markdown",
   "metadata": {},
   "source": [
    "After controlling for these variables, income is still significant with a t-value of 5.73, although the coefficient has dropped to 8.74e-05. This suggest that, holding all else equal, an increase in income of \\\\$1,000 will lead to an increase of 0.087 of subjective riches and an increase of \\\\$100,000 will lead to an increase of 8.7. It is also worth noting that when all of these coefficients are included, the only other variables that are significantly different than zero are the intercept, gender (males being more happy by 2.54 points), and having some college education (associated with -2.87 subjective riches relative to having a Bachelor's degree). Finally, it is worth noting that the regression gave us a warning suggesting that there are some signs of multicollinearity in this regression (although it also gave that warning in the previous regression that only had one explanatory variable)."
   ]
  },
  {
   "cell_type": "code",
   "execution_count": 41,
   "metadata": {},
   "outputs": [],
   "source": [
    "# end of e"
   ]
  },
  {
   "cell_type": "code",
   "execution_count": null,
   "metadata": {},
   "outputs": [],
   "source": [
    "# f"
   ]
  },
  {
   "cell_type": "markdown",
   "metadata": {},
   "source": [
    "Household size would be another interesting variable that could be related to subjective riches in some way. Assuming that this additional new variable does not cause concerns relating to things like colinearity, I would change my analysis by adding it as another variable to control for in the OLS regression in part e."
   ]
  },
  {
   "cell_type": "code",
   "execution_count": 125,
   "metadata": {},
   "outputs": [],
   "source": [
    "# end of f"
   ]
  },
  {
   "cell_type": "markdown",
   "metadata": {},
   "source": [
    "# Question 3"
   ]
  },
  {
   "cell_type": "code",
   "execution_count": 211,
   "metadata": {},
   "outputs": [],
   "source": [
    "# a"
   ]
  },
  {
   "cell_type": "markdown",
   "metadata": {},
   "source": [
    "**List of steps to produce scatterplot:**<br/>\n",
    "1) Generate new wellbeing scores that are not an average of every aspect in the dataset, but an average of only the health-related aspects. As can be seen in part b, I create one average which is the mean of every aspect that seems health-related to me ('your physical fitness','your mental health','your health','your emotional stability', and 'you not feeling anxious') and another that is just the aspect of 'your health'.<br/>\n",
    "<br/>\n",
    "2) Use Seaborn to create a scatter plot that has age as the x-axis, subjective health rating as the y-axis, and income as the color of the dots.<br/>\n",
    "<br/>\n",
    "**Explanation**: It is usually tricky to represent three variables in a single plot, and if one is restricted to the scatter plot format then the only choices available are the y-axis, the x-axis and some transformation of the dots in the plot.<br/>\n",
    "<br/>\n",
    "*Y-axis*: Since rating is the main variable of interest I want to have it as one of the axes, since those tend to be more legible than the dot transformations. Additionally, I wanted to have it as the y-axis as health rating is the only variable of the three to have an intrinsic ordering of \"goodness\" (a higher rating being intrinsically better), and in my view the y-axis is more associated with goodness-badness (the higher on the plot the better the outcome) than the x-axis is.<br/>\n",
    "<br/>\n",
    "*X-axis*: Both income and age seem equally important for the plot, so I experimented with putting both on the x-axis, but the income variable is much more discrete (with clumps every \\\\$10-20 thousand) which causes the plot to be less clear, with many more dots compressed into a small visual area. This led me to put age as the x-axis, and then use some transformation for income.<br/>\n",
    "<br/>\n",
    "*Transformation on dots*: With Seaborn, the main options for transformations of the points are to change their size, shape, and color. Changing size is a good option when the variable tells you something about the importance of the data point (e.g. population size for a country), but in this situation we do not (I hope) view wealthier individuals as intrinsically more important, and so should not visualize the higher income values as larger dots on the graph. So, I did not use size. Changing shape is a good option when you have categorical variables, but with a continuous metric like income it is confusing as \\\\$10k and \\\\$30k seem as different as \\\\$10k and \\\\$200k. So, I did not use shape. This leaves color, which seems like a good option for income in this context as it does not imply any differences in importance (like size would), and shows a continuous relationship between all values (in a way that shape would not).\n",
    "\n",
    "**Final Aside:** Since the question specifically says to create a scatterplot I restricted my thoughts here to that type of plot. I personally think that a heatmap showing the average rating in different bins of age-income combinations might be a clearer way to show the trends in the dataset, given the noisiness of having both three variables and more than 1,000 points of data in the dataset."
   ]
  },
  {
   "cell_type": "code",
   "execution_count": 42,
   "metadata": {},
   "outputs": [
    {
     "data": {
      "text/plain": [
       "array(['your sense of connection with other people',\n",
       "       'your physical safety and security', 'your physical fitness',\n",
       "       'your mental health',\n",
       "       'your knowledge skills and access to information', 'your health',\n",
       "       'your emotional stability', 'you not feeling anxious',\n",
       "       'you feeling that your work has value',\n",
       "       'you being able to support your family financially',\n",
       "       'you being able to spend enough time with the ones you love',\n",
       "       'you being a good moral person and living according to your personal values',\n",
       "       'the quality of your sleep',\n",
       "       'the extent to which you feel the things you do in your life are worthwhile',\n",
       "       'how satisfied you are with your life',\n",
       "       'how much you like your home house or apartment',\n",
       "       'how happy you feel'], dtype=object)"
      ]
     },
     "execution_count": 42,
     "metadata": {},
     "output_type": "execute_result"
    }
   ],
   "source": [
    "# b\n",
    "rate['aspect'].unique()"
   ]
  },
  {
   "cell_type": "code",
   "execution_count": 43,
   "metadata": {},
   "outputs": [
    {
     "data": {
      "text/html": [
       "<div>\n",
       "<style scoped>\n",
       "    .dataframe tbody tr th:only-of-type {\n",
       "        vertical-align: middle;\n",
       "    }\n",
       "\n",
       "    .dataframe tbody tr th {\n",
       "        vertical-align: top;\n",
       "    }\n",
       "\n",
       "    .dataframe thead th {\n",
       "        text-align: right;\n",
       "    }\n",
       "</style>\n",
       "<table border=\"1\" class=\"dataframe\">\n",
       "  <thead>\n",
       "    <tr style=\"text-align: right;\">\n",
       "      <th></th>\n",
       "      <th>worker</th>\n",
       "      <th>rating</th>\n",
       "    </tr>\n",
       "  </thead>\n",
       "  <tbody>\n",
       "    <tr>\n",
       "      <th>0</th>\n",
       "      <td>AW1005987207</td>\n",
       "      <td>66.8</td>\n",
       "    </tr>\n",
       "    <tr>\n",
       "      <th>1</th>\n",
       "      <td>AW10083168508</td>\n",
       "      <td>26.4</td>\n",
       "    </tr>\n",
       "    <tr>\n",
       "      <th>2</th>\n",
       "      <td>AW10108518316</td>\n",
       "      <td>92.0</td>\n",
       "    </tr>\n",
       "    <tr>\n",
       "      <th>3</th>\n",
       "      <td>AW10192560152</td>\n",
       "      <td>59.4</td>\n",
       "    </tr>\n",
       "    <tr>\n",
       "      <th>4</th>\n",
       "      <td>AW1039734587YY</td>\n",
       "      <td>75.6</td>\n",
       "    </tr>\n",
       "  </tbody>\n",
       "</table>\n",
       "</div>"
      ],
      "text/plain": [
       "           worker  rating\n",
       "0    AW1005987207    66.8\n",
       "1   AW10083168508    26.4\n",
       "2   AW10108518316    92.0\n",
       "3   AW10192560152    59.4\n",
       "4  AW1039734587YY    75.6"
      ]
     },
     "execution_count": 43,
     "metadata": {},
     "output_type": "execute_result"
    }
   ],
   "source": [
    "rate_broad_health = rate[rate['aspect'].isin(['your physical fitness','your mental health','your health','your emotional stability', 'you not feeling anxious'])].reset_index()\n",
    "rate_broad_health = (rate_broad_health.groupby('worker').mean()['rating']).reset_index()\n",
    "rate_broad_health.head()"
   ]
  },
  {
   "cell_type": "code",
   "execution_count": 44,
   "metadata": {
    "scrolled": true
   },
   "outputs": [
    {
     "data": {
      "text/html": [
       "<div>\n",
       "<style scoped>\n",
       "    .dataframe tbody tr th:only-of-type {\n",
       "        vertical-align: middle;\n",
       "    }\n",
       "\n",
       "    .dataframe tbody tr th {\n",
       "        vertical-align: top;\n",
       "    }\n",
       "\n",
       "    .dataframe thead th {\n",
       "        text-align: right;\n",
       "    }\n",
       "</style>\n",
       "<table border=\"1\" class=\"dataframe\">\n",
       "  <thead>\n",
       "    <tr style=\"text-align: right;\">\n",
       "      <th></th>\n",
       "      <th>worker</th>\n",
       "      <th>age</th>\n",
       "      <th>male</th>\n",
       "      <th>income</th>\n",
       "      <th>education</th>\n",
       "      <th>race</th>\n",
       "      <th>rating</th>\n",
       "    </tr>\n",
       "  </thead>\n",
       "  <tbody>\n",
       "    <tr>\n",
       "      <th>0</th>\n",
       "      <td>AW31492615119</td>\n",
       "      <td>23</td>\n",
       "      <td>0</td>\n",
       "      <td>30000</td>\n",
       "      <td>Some college</td>\n",
       "      <td>Asian (non-Hispanic)</td>\n",
       "      <td>61.8</td>\n",
       "    </tr>\n",
       "    <tr>\n",
       "      <th>1</th>\n",
       "      <td>AW45861491036</td>\n",
       "      <td>35</td>\n",
       "      <td>0</td>\n",
       "      <td>50000</td>\n",
       "      <td>Some college</td>\n",
       "      <td>Black (non-Hispanic)</td>\n",
       "      <td>52.2</td>\n",
       "    </tr>\n",
       "    <tr>\n",
       "      <th>2</th>\n",
       "      <td>AW62562980372</td>\n",
       "      <td>28</td>\n",
       "      <td>0</td>\n",
       "      <td>30000</td>\n",
       "      <td>Some college</td>\n",
       "      <td>Hispanic (any race)</td>\n",
       "      <td>52.8</td>\n",
       "    </tr>\n",
       "    <tr>\n",
       "      <th>3</th>\n",
       "      <td>AW9806860651</td>\n",
       "      <td>55</td>\n",
       "      <td>1</td>\n",
       "      <td>70000</td>\n",
       "      <td>Bachelor's degree</td>\n",
       "      <td>White (non-Hispanic)</td>\n",
       "      <td>32.0</td>\n",
       "    </tr>\n",
       "    <tr>\n",
       "      <th>4</th>\n",
       "      <td>AW8132561106</td>\n",
       "      <td>38</td>\n",
       "      <td>0</td>\n",
       "      <td>50000</td>\n",
       "      <td>Master's degree</td>\n",
       "      <td>White (non-Hispanic)</td>\n",
       "      <td>74.6</td>\n",
       "    </tr>\n",
       "  </tbody>\n",
       "</table>\n",
       "</div>"
      ],
      "text/plain": [
       "          worker  age  male  income          education                  race  \\\n",
       "0  AW31492615119   23     0   30000       Some college  Asian (non-Hispanic)   \n",
       "1  AW45861491036   35     0   50000       Some college  Black (non-Hispanic)   \n",
       "2  AW62562980372   28     0   30000       Some college   Hispanic (any race)   \n",
       "3   AW9806860651   55     1   70000  Bachelor's degree  White (non-Hispanic)   \n",
       "4   AW8132561106   38     0   50000    Master's degree  White (non-Hispanic)   \n",
       "\n",
       "   rating  \n",
       "0    61.8  \n",
       "1    52.2  \n",
       "2    52.8  \n",
       "3    32.0  \n",
       "4    74.6  "
      ]
     },
     "execution_count": 44,
     "metadata": {},
     "output_type": "execute_result"
    }
   ],
   "source": [
    "broad_health = demo.merge(rate_broad_health,how='inner',on = 'worker')\n",
    "broad_health.head()"
   ]
  },
  {
   "cell_type": "code",
   "execution_count": 52,
   "metadata": {
    "scrolled": true
   },
   "outputs": [
    {
     "data": {
      "image/png": "[encoded data removed]",
      "text/plain": [
       "<Figure size 432x288 with 1 Axes>"
      ]
     },
     "metadata": {
      "needs_background": "light"
     },
     "output_type": "display_data"
    }
   ],
   "source": [
    "fig, ax = plt.subplots()\n",
    "broad_graph = sns.scatterplot(x='age',y='rating',hue='income',data=broad_health,ax =ax)\n",
    "ax.set_xlim(15,100)\n",
    "fig.suptitle('Broad Health Rating', fontsize=20)\n",
    "plt.show()\n",
    "fig = broad_graph.get_figure()\n",
    "fig.savefig(\"broad_health.jpeg\")"
   ]
  },
  {
   "cell_type": "code",
   "execution_count": 48,
   "metadata": {},
   "outputs": [
    {
     "data": {
      "text/html": [
       "<div>\n",
       "<style scoped>\n",
       "    .dataframe tbody tr th:only-of-type {\n",
       "        vertical-align: middle;\n",
       "    }\n",
       "\n",
       "    .dataframe tbody tr th {\n",
       "        vertical-align: top;\n",
       "    }\n",
       "\n",
       "    .dataframe thead th {\n",
       "        text-align: right;\n",
       "    }\n",
       "</style>\n",
       "<table border=\"1\" class=\"dataframe\">\n",
       "  <thead>\n",
       "    <tr style=\"text-align: right;\">\n",
       "      <th></th>\n",
       "      <th>worker</th>\n",
       "      <th>rating</th>\n",
       "    </tr>\n",
       "  </thead>\n",
       "  <tbody>\n",
       "    <tr>\n",
       "      <th>0</th>\n",
       "      <td>AW1005987207</td>\n",
       "      <td>78</td>\n",
       "    </tr>\n",
       "    <tr>\n",
       "      <th>1</th>\n",
       "      <td>AW10083168508</td>\n",
       "      <td>36</td>\n",
       "    </tr>\n",
       "    <tr>\n",
       "      <th>2</th>\n",
       "      <td>AW10108518316</td>\n",
       "      <td>97</td>\n",
       "    </tr>\n",
       "    <tr>\n",
       "      <th>3</th>\n",
       "      <td>AW10192560152</td>\n",
       "      <td>65</td>\n",
       "    </tr>\n",
       "    <tr>\n",
       "      <th>4</th>\n",
       "      <td>AW1039734587YY</td>\n",
       "      <td>77</td>\n",
       "    </tr>\n",
       "  </tbody>\n",
       "</table>\n",
       "</div>"
      ],
      "text/plain": [
       "           worker  rating\n",
       "0    AW1005987207      78\n",
       "1   AW10083168508      36\n",
       "2   AW10108518316      97\n",
       "3   AW10192560152      65\n",
       "4  AW1039734587YY      77"
      ]
     },
     "execution_count": 48,
     "metadata": {},
     "output_type": "execute_result"
    }
   ],
   "source": [
    "rate_narrow_health = rate[rate['aspect']=='your health'].reset_index()\n",
    "rate_narrow_health = (rate_narrow_health.groupby('worker').mean()['rating']).reset_index()\n",
    "rate_narrow_health.head()"
   ]
  },
  {
   "cell_type": "code",
   "execution_count": 49,
   "metadata": {
    "scrolled": true
   },
   "outputs": [
    {
     "data": {
      "text/html": [
       "<div>\n",
       "<style scoped>\n",
       "    .dataframe tbody tr th:only-of-type {\n",
       "        vertical-align: middle;\n",
       "    }\n",
       "\n",
       "    .dataframe tbody tr th {\n",
       "        vertical-align: top;\n",
       "    }\n",
       "\n",
       "    .dataframe thead th {\n",
       "        text-align: right;\n",
       "    }\n",
       "</style>\n",
       "<table border=\"1\" class=\"dataframe\">\n",
       "  <thead>\n",
       "    <tr style=\"text-align: right;\">\n",
       "      <th></th>\n",
       "      <th>worker</th>\n",
       "      <th>age</th>\n",
       "      <th>male</th>\n",
       "      <th>income</th>\n",
       "      <th>education</th>\n",
       "      <th>race</th>\n",
       "      <th>rating</th>\n",
       "    </tr>\n",
       "  </thead>\n",
       "  <tbody>\n",
       "    <tr>\n",
       "      <th>0</th>\n",
       "      <td>AW31492615119</td>\n",
       "      <td>23</td>\n",
       "      <td>0</td>\n",
       "      <td>30000</td>\n",
       "      <td>Some college</td>\n",
       "      <td>Asian (non-Hispanic)</td>\n",
       "      <td>67</td>\n",
       "    </tr>\n",
       "    <tr>\n",
       "      <th>1</th>\n",
       "      <td>AW45861491036</td>\n",
       "      <td>35</td>\n",
       "      <td>0</td>\n",
       "      <td>50000</td>\n",
       "      <td>Some college</td>\n",
       "      <td>Black (non-Hispanic)</td>\n",
       "      <td>61</td>\n",
       "    </tr>\n",
       "    <tr>\n",
       "      <th>2</th>\n",
       "      <td>AW62562980372</td>\n",
       "      <td>28</td>\n",
       "      <td>0</td>\n",
       "      <td>30000</td>\n",
       "      <td>Some college</td>\n",
       "      <td>Hispanic (any race)</td>\n",
       "      <td>66</td>\n",
       "    </tr>\n",
       "    <tr>\n",
       "      <th>3</th>\n",
       "      <td>AW9806860651</td>\n",
       "      <td>55</td>\n",
       "      <td>1</td>\n",
       "      <td>70000</td>\n",
       "      <td>Bachelor's degree</td>\n",
       "      <td>White (non-Hispanic)</td>\n",
       "      <td>39</td>\n",
       "    </tr>\n",
       "    <tr>\n",
       "      <th>4</th>\n",
       "      <td>AW8132561106</td>\n",
       "      <td>38</td>\n",
       "      <td>0</td>\n",
       "      <td>50000</td>\n",
       "      <td>Master's degree</td>\n",
       "      <td>White (non-Hispanic)</td>\n",
       "      <td>79</td>\n",
       "    </tr>\n",
       "  </tbody>\n",
       "</table>\n",
       "</div>"
      ],
      "text/plain": [
       "          worker  age  male  income          education                  race  \\\n",
       "0  AW31492615119   23     0   30000       Some college  Asian (non-Hispanic)   \n",
       "1  AW45861491036   35     0   50000       Some college  Black (non-Hispanic)   \n",
       "2  AW62562980372   28     0   30000       Some college   Hispanic (any race)   \n",
       "3   AW9806860651   55     1   70000  Bachelor's degree  White (non-Hispanic)   \n",
       "4   AW8132561106   38     0   50000    Master's degree  White (non-Hispanic)   \n",
       "\n",
       "   rating  \n",
       "0      67  \n",
       "1      61  \n",
       "2      66  \n",
       "3      39  \n",
       "4      79  "
      ]
     },
     "execution_count": 49,
     "metadata": {},
     "output_type": "execute_result"
    }
   ],
   "source": [
    "narrow_health = demo.merge(rate_narrow_health,how='inner',on = 'worker')\n",
    "narrow_health.head()"
   ]
  },
  {
   "cell_type": "code",
   "execution_count": 53,
   "metadata": {
    "scrolled": true
   },
   "outputs": [
    {
     "data": {
      "image/png": "[encoded data removed]",
      "text/plain": [
       "<Figure size 432x288 with 1 Axes>"
      ]
     },
     "metadata": {
      "needs_background": "light"
     },
     "output_type": "display_data"
    }
   ],
   "source": [
    "fig, ax = plt.subplots()\n",
    "narrow_graph = sns.scatterplot(x='age',y='rating',hue='income',data=narrow_health,ax =ax)\n",
    "ax.set_xlim(15,100)\n",
    "fig.suptitle('Narrow Health Rating', fontsize=20)\n",
    "plt.show()\n",
    "fig = narrow_graph.get_figure()\n",
    "fig.savefig(\"narrow_health.jpeg\")"
   ]
  },
  {
   "cell_type": "code",
   "execution_count": 54,
   "metadata": {
    "scrolled": true
   },
   "outputs": [
    {
     "data": {
      "image/png": "[encoded data removed]",
      "text/plain": [
       "<Figure size 432x288 with 1 Axes>"
      ]
     },
     "metadata": {
      "needs_background": "light"
     },
     "output_type": "display_data"
    }
   ],
   "source": [
    "# I thought it was interesting how similar the scatterplots looked and so I plotted the two ratings together:\n",
    "sns.scatterplot(x=broad_health['rating'],y=narrow_health['rating']);\n",
    "# end of b"
   ]
  },
  {
   "cell_type": "code",
   "execution_count": 220,
   "metadata": {},
   "outputs": [],
   "source": [
    "# c"
   ]
  },
  {
   "cell_type": "markdown",
   "metadata": {},
   "source": [
    "In our data, income has a positive relationship with our measure of subjective well-being, but the effect size of income on SWB is relatively small. This provides some evidence that increased income improves subjective well-being.<br/>\n",
    "<br/>\n",
    "However, one should not be swayed too much by these findings. Firstly, there are many happiness-relevant variables that are not included in this dataset; including them in a regression could change the findings of our analysis. Second, there are reasons to be skeptical of subjective ratings as a metric for true well-being. Tyler Cowen has talked about how self-reported satisfaction surveys do not capture the effects on happiness of catastrophic events (which are probably more common among poorer people) as these surveys only record responses from people who are currently in a relatively stable environment. Your income also probably changes the amount of happiness you can imagine, which would lead wealthier people to give lower subjective ratings than poorer people holding their true well-being level constant. Finally, the questions in this survey revolve around how an individual evaluates aspects of their life; surveys that ask questions like these tend to find Scandinavian countries to be the happiest in the world, while surveys that ask about moments of laughter and joy tend to find Latin American countries to be the happiest. Both these types of questions seem like valuable ways of measuring happiness, but the fact that they lead to very different rank-orderings of happiness seems problematic for their usefulness at measuring true well-being."
   ]
  }
 ],
 "metadata": {
  "kernelspec": {
   "display_name": "Python 3",
   "language": "python",
   "name": "python3"
  },
  "language_info": {
   "codemirror_mode": {
    "name": "ipython",
    "version": 3
   },
   "file_extension": ".py",
   "mimetype": "text/x-python",
   "name": "python",
   "nbconvert_exporter": "python",
   "pygments_lexer": "ipython3",
   "version": "3.8.3"
  }
 },
 "nbformat": 4,
 "nbformat_minor": 4
}
